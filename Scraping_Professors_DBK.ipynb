{
 "cells": [
  {
   "cell_type": "code",
   "execution_count": 1,
   "metadata": {
    "collapsed": true
   },
   "outputs": [],
   "source": [
    "import pandas as pd\n",
    "import requests\n",
    "from bs4 import BeautifulSoup as bs\n",
    "import time\n",
    "\n",
    "url = requests.get(\"http://salaryguide.diamondbacklab.com/#/salGuide\")\n",
    "soup = bs(url.content, 'lxml')"
   ]
  },
  {
   "cell_type": "code",
   "execution_count": 2,
   "metadata": {
    "collapsed": true
   },
   "outputs": [],
   "source": [
    "from selenium import webdriver\n",
    "\n",
    "path_to_chromedriver = 'D:\\Programming\\Scraping\\Drivers\\chromedriver'\n",
    "browser = webdriver.Chrome(executable_path = path_to_chromedriver)"
   ]
  },
  {
   "cell_type": "code",
   "execution_count": 3,
   "metadata": {
    "collapsed": true
   },
   "outputs": [],
   "source": [
    "url = 'http://salaryguide.diamondbacklab.com/#/'\n",
    "browser.get(url)"
   ]
  },
  {
   "cell_type": "code",
   "execution_count": 4,
   "metadata": {},
   "outputs": [],
   "source": [
    "browser.find_element_by_id('view').click() # click view\n",
    "time.sleep(5)"
   ]
  },
  {
   "cell_type": "code",
   "execution_count": 5,
   "metadata": {},
   "outputs": [],
   "source": [
    "browser.find_element_by_id('search').send_keys(\"CMNS-Computer Science\") # only get compsci"
   ]
  },
  {
   "cell_type": "code",
   "execution_count": 6,
   "metadata": {
    "collapsed": true
   },
   "outputs": [],
   "source": [
    "row = browser.find_element_by_tag_name('table')"
   ]
  },
  {
   "cell_type": "code",
   "execution_count": 7,
   "metadata": {
    "scrolled": true
   },
   "outputs": [
    {
     "data": {
      "text/plain": [
       "['EMPLOYEE ▲ DEPARTMENT TITLE SALARY',\n",
       " 'Adams, Brandi Kristine CMNS-Computer Science Assoc Dir $83,287.26',\n",
       " 'Agrawala, Ashok K. CMNS-Computer Science Prof $111,685.34',\n",
       " 'Aloimonos, John CMNS-Computer Science Prof $80,564.98',\n",
       " 'Atchison, Kate L CMNS-Computer Science Coordinator $53,000.00',\n",
       " 'Bhattacharjee, Samrat CMNS-Computer Science Prof $191,698.92',\n",
       " 'Boykin, Regis D. CMNS-Computer Science Accounting Assoc $36,006.20',\n",
       " 'Carpuat, Marine CMNS-Computer Science Asst Prof $56,107.00',\n",
       " 'Chen, Ray Sun CMNS-Computer Science Fac Spec $92,058.24',\n",
       " 'Chick, Brenda K. CMNS-Computer Science Coordinator $56,637.07',\n",
       " 'Childs, Andrew M CMNS-Computer Science Assoc Prof $67,034.00']"
      ]
     },
     "execution_count": 7,
     "metadata": {},
     "output_type": "execute_result"
    }
   ],
   "source": [
    "entries = row.text.splitlines()\n",
    "entries"
   ]
  },
  {
   "cell_type": "code",
   "execution_count": 8,
   "metadata": {
    "scrolled": true
   },
   "outputs": [
    {
     "data": {
      "text/plain": [
       "'EMPLOYEE ▲ DEPARTMENT TITLE SALARY'"
      ]
     },
     "execution_count": 8,
     "metadata": {},
     "output_type": "execute_result"
    }
   ],
   "source": [
    "columns = entries[0]\n",
    "columns"
   ]
  },
  {
   "cell_type": "code",
   "execution_count": 9,
   "metadata": {},
   "outputs": [
    {
     "data": {
      "text/plain": [
       "'EMPLOYEE DEPARTMENT TITLE SALARY'"
      ]
     },
     "execution_count": 9,
     "metadata": {},
     "output_type": "execute_result"
    }
   ],
   "source": [
    "columns = columns[:9] + columns[11:]\n",
    "columns"
   ]
  },
  {
   "cell_type": "code",
   "execution_count": 10,
   "metadata": {},
   "outputs": [
    {
     "data": {
      "text/plain": [
       "['EMPLOYEE', 'DEPARTMENT', 'TITLE', 'SALARY']"
      ]
     },
     "execution_count": 10,
     "metadata": {},
     "output_type": "execute_result"
    }
   ],
   "source": [
    "columns = columns.split(' ')\n",
    "columns"
   ]
  },
  {
   "cell_type": "code",
   "execution_count": 11,
   "metadata": {
    "collapsed": true
   },
   "outputs": [],
   "source": [
    "df = pd.DataFrame(columns = columns)"
   ]
  },
  {
   "cell_type": "code",
   "execution_count": 12,
   "metadata": {
    "collapsed": true
   },
   "outputs": [],
   "source": [
    "import re"
   ]
  },
  {
   "cell_type": "code",
   "execution_count": 13,
   "metadata": {
    "collapsed": true
   },
   "outputs": [],
   "source": [
    "regex = re.compile('^(.+) CMNS-Computer Science (.+) \\$(.+)$')"
   ]
  },
  {
   "cell_type": "code",
   "execution_count": 14,
   "metadata": {
    "collapsed": true
   },
   "outputs": [],
   "source": [
    "def get_entries(entries, df):\n",
    "    for entry in entries[1:]:\n",
    "        m = regex.match(entry)\n",
    "        df1 = pd.DataFrame([[m.group(1), 'CMNS-Computer Science', m.group(2), m.group(3)]], columns = columns)\n",
    "        df = df.append(df1)\n",
    "    return df"
   ]
  },
  {
   "cell_type": "code",
   "execution_count": 15,
   "metadata": {
    "scrolled": true
   },
   "outputs": [],
   "source": [
    "df = get_entries(entries, df)"
   ]
  },
  {
   "cell_type": "code",
   "execution_count": 16,
   "metadata": {},
   "outputs": [
    {
     "data": {
      "text/html": [
       "<div>\n",
       "<style>\n",
       "    .dataframe thead tr:only-child th {\n",
       "        text-align: right;\n",
       "    }\n",
       "\n",
       "    .dataframe thead th {\n",
       "        text-align: left;\n",
       "    }\n",
       "\n",
       "    .dataframe tbody tr th {\n",
       "        vertical-align: top;\n",
       "    }\n",
       "</style>\n",
       "<table border=\"1\" class=\"dataframe\">\n",
       "  <thead>\n",
       "    <tr style=\"text-align: right;\">\n",
       "      <th></th>\n",
       "      <th>EMPLOYEE</th>\n",
       "      <th>DEPARTMENT</th>\n",
       "      <th>TITLE</th>\n",
       "      <th>SALARY</th>\n",
       "    </tr>\n",
       "  </thead>\n",
       "  <tbody>\n",
       "    <tr>\n",
       "      <th>0</th>\n",
       "      <td>Adams, Brandi Kristine</td>\n",
       "      <td>CMNS-Computer Science</td>\n",
       "      <td>Assoc Dir</td>\n",
       "      <td>83,287.26</td>\n",
       "    </tr>\n",
       "    <tr>\n",
       "      <th>0</th>\n",
       "      <td>Agrawala, Ashok K.</td>\n",
       "      <td>CMNS-Computer Science</td>\n",
       "      <td>Prof</td>\n",
       "      <td>111,685.34</td>\n",
       "    </tr>\n",
       "    <tr>\n",
       "      <th>0</th>\n",
       "      <td>Aloimonos, John</td>\n",
       "      <td>CMNS-Computer Science</td>\n",
       "      <td>Prof</td>\n",
       "      <td>80,564.98</td>\n",
       "    </tr>\n",
       "    <tr>\n",
       "      <th>0</th>\n",
       "      <td>Atchison, Kate L</td>\n",
       "      <td>CMNS-Computer Science</td>\n",
       "      <td>Coordinator</td>\n",
       "      <td>53,000.00</td>\n",
       "    </tr>\n",
       "    <tr>\n",
       "      <th>0</th>\n",
       "      <td>Bhattacharjee, Samrat</td>\n",
       "      <td>CMNS-Computer Science</td>\n",
       "      <td>Prof</td>\n",
       "      <td>191,698.92</td>\n",
       "    </tr>\n",
       "  </tbody>\n",
       "</table>\n",
       "</div>"
      ],
      "text/plain": [
       "                 EMPLOYEE             DEPARTMENT        TITLE      SALARY\n",
       "0  Adams, Brandi Kristine  CMNS-Computer Science    Assoc Dir   83,287.26\n",
       "0      Agrawala, Ashok K.  CMNS-Computer Science         Prof  111,685.34\n",
       "0         Aloimonos, John  CMNS-Computer Science         Prof   80,564.98\n",
       "0        Atchison, Kate L  CMNS-Computer Science  Coordinator   53,000.00\n",
       "0   Bhattacharjee, Samrat  CMNS-Computer Science         Prof  191,698.92"
      ]
     },
     "execution_count": 16,
     "metadata": {},
     "output_type": "execute_result"
    }
   ],
   "source": [
    "def scrape_each_page(df):\n",
    "    page = ''\n",
    "    prev_page = ''\n",
    "    while(True):\n",
    "        browser.find_element_by_id('next').click()\n",
    "        row = browser.find_element_by_tag_name('table')\n",
    "        prev_page = page\n",
    "        page = row.text\n",
    "        if(page == prev_page):\n",
    "            break\n",
    "        entries = row.text.splitlines()\n",
    "        df = get_entries(entries, df)\n",
    "    return df\n",
    "df = scrape_each_page(df)\n",
    "df.head()"
   ]
  },
  {
   "cell_type": "code",
   "execution_count": 17,
   "metadata": {},
   "outputs": [
    {
     "data": {
      "text/html": [
       "<div>\n",
       "<style>\n",
       "    .dataframe thead tr:only-child th {\n",
       "        text-align: right;\n",
       "    }\n",
       "\n",
       "    .dataframe thead th {\n",
       "        text-align: left;\n",
       "    }\n",
       "\n",
       "    .dataframe tbody tr th {\n",
       "        vertical-align: top;\n",
       "    }\n",
       "</style>\n",
       "<table border=\"1\" class=\"dataframe\">\n",
       "  <thead>\n",
       "    <tr style=\"text-align: right;\">\n",
       "      <th></th>\n",
       "      <th>EMPLOYEE</th>\n",
       "      <th>DEPARTMENT</th>\n",
       "      <th>TITLE</th>\n",
       "      <th>SALARY</th>\n",
       "      <th>year</th>\n",
       "    </tr>\n",
       "  </thead>\n",
       "  <tbody>\n",
       "    <tr>\n",
       "      <th>0</th>\n",
       "      <td>Adams, Brandi Kristine</td>\n",
       "      <td>CMNS-Computer Science</td>\n",
       "      <td>Assoc Dir</td>\n",
       "      <td>83,287.26</td>\n",
       "      <td>2017</td>\n",
       "    </tr>\n",
       "    <tr>\n",
       "      <th>0</th>\n",
       "      <td>Agrawala, Ashok K.</td>\n",
       "      <td>CMNS-Computer Science</td>\n",
       "      <td>Prof</td>\n",
       "      <td>111,685.34</td>\n",
       "      <td>2017</td>\n",
       "    </tr>\n",
       "    <tr>\n",
       "      <th>0</th>\n",
       "      <td>Aloimonos, John</td>\n",
       "      <td>CMNS-Computer Science</td>\n",
       "      <td>Prof</td>\n",
       "      <td>80,564.98</td>\n",
       "      <td>2017</td>\n",
       "    </tr>\n",
       "    <tr>\n",
       "      <th>0</th>\n",
       "      <td>Atchison, Kate L</td>\n",
       "      <td>CMNS-Computer Science</td>\n",
       "      <td>Coordinator</td>\n",
       "      <td>53,000.00</td>\n",
       "      <td>2017</td>\n",
       "    </tr>\n",
       "    <tr>\n",
       "      <th>0</th>\n",
       "      <td>Bhattacharjee, Samrat</td>\n",
       "      <td>CMNS-Computer Science</td>\n",
       "      <td>Prof</td>\n",
       "      <td>191,698.92</td>\n",
       "      <td>2017</td>\n",
       "    </tr>\n",
       "  </tbody>\n",
       "</table>\n",
       "</div>"
      ],
      "text/plain": [
       "                 EMPLOYEE             DEPARTMENT        TITLE      SALARY  \\\n",
       "0  Adams, Brandi Kristine  CMNS-Computer Science    Assoc Dir   83,287.26   \n",
       "0      Agrawala, Ashok K.  CMNS-Computer Science         Prof  111,685.34   \n",
       "0         Aloimonos, John  CMNS-Computer Science         Prof   80,564.98   \n",
       "0        Atchison, Kate L  CMNS-Computer Science  Coordinator   53,000.00   \n",
       "0   Bhattacharjee, Samrat  CMNS-Computer Science         Prof  191,698.92   \n",
       "\n",
       "   year  \n",
       "0  2017  \n",
       "0  2017  \n",
       "0  2017  \n",
       "0  2017  \n",
       "0  2017  "
      ]
     },
     "execution_count": 17,
     "metadata": {},
     "output_type": "execute_result"
    }
   ],
   "source": [
    "df['year'] = 2017\n",
    "df.head()"
   ]
  },
  {
   "cell_type": "code",
   "execution_count": null,
   "metadata": {
    "collapsed": true
   },
   "outputs": [],
   "source": [
    "browser.find_element_by_id('previous').click() # toggle to see other charts"
   ]
  },
  {
   "cell_type": "code",
   "execution_count": null,
   "metadata": {},
   "outputs": [],
   "source": [
    "for n in range(2013,2017):\n",
    "    time.sleep(6)\n",
    "    link = '#/salGuide?year=' + str(n)\n",
    "    browser.find_element_by_xpath(\"//a[@href=\\'{0}\\']\".format(link)).click()\n",
    "    time.sleep(6)\n",
    "    browser.find_element_by_id('search').send_keys(\"CMNS-Computer Science\")\n",
    "    df1 = pd.DataFrame(columns = columns)\n",
    "    df1 = scrape_each_page(df1)\n",
    "    df1['year'] = n\n",
    "    df = df.append(df1)\n",
    "df    "
   ]
  },
  {
   "cell_type": "code",
   "execution_count": null,
   "metadata": {
    "collapsed": true
   },
   "outputs": [],
   "source": []
  }
 ],
 "metadata": {
  "kernelspec": {
   "display_name": "Python 3",
   "language": "python",
   "name": "python3"
  },
  "language_info": {
   "codemirror_mode": {
    "name": "ipython",
    "version": 3
   },
   "file_extension": ".py",
   "mimetype": "text/x-python",
   "name": "python",
   "nbconvert_exporter": "python",
   "pygments_lexer": "ipython3",
   "version": "3.6.1"
  }
 },
 "nbformat": 4,
 "nbformat_minor": 2
}
